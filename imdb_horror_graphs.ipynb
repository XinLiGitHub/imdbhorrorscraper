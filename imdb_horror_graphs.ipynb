{
 "cells": [
  {
   "cell_type": "code",
   "execution_count": 1,
   "metadata": {},
   "outputs": [],
   "source": [
    "import pandas as pd\n",
    "from matplotlib import pyplot as plt\n",
    "from datetime import datetime\n",
    "import numpy as np\n",
    "import math"
   ]
  },
  {
   "cell_type": "code",
   "execution_count": 2,
   "metadata": {},
   "outputs": [],
   "source": [
    "df = pd.read_csv('imdbhorrordata5kratingsv3.csv')"
   ]
  },
  {
   "cell_type": "code",
   "execution_count": 3,
   "metadata": {},
   "outputs": [
    {
     "data": {
      "text/html": [
       "<div>\n",
       "<style scoped>\n",
       "    .dataframe tbody tr th:only-of-type {\n",
       "        vertical-align: middle;\n",
       "    }\n",
       "\n",
       "    .dataframe tbody tr th {\n",
       "        vertical-align: top;\n",
       "    }\n",
       "\n",
       "    .dataframe thead th {\n",
       "        text-align: right;\n",
       "    }\n",
       "</style>\n",
       "<table border=\"1\" class=\"dataframe\">\n",
       "  <thead>\n",
       "    <tr style=\"text-align: right;\">\n",
       "      <th></th>\n",
       "      <th>Unnamed: 0.1</th>\n",
       "      <th>Unnamed: 0</th>\n",
       "      <th>Title</th>\n",
       "      <th>Year</th>\n",
       "      <th>Rating</th>\n",
       "      <th>Link</th>\n",
       "      <th>Budget</th>\n",
       "      <th>Gross</th>\n",
       "      <th>Net</th>\n",
       "      <th>Date</th>\n",
       "      <th>Month</th>\n",
       "    </tr>\n",
       "  </thead>\n",
       "  <tbody>\n",
       "    <tr>\n",
       "      <th>0</th>\n",
       "      <td>0</td>\n",
       "      <td>1</td>\n",
       "      <td>Paranormal Activity</td>\n",
       "      <td>2007</td>\n",
       "      <td>6.3</td>\n",
       "      <td>/title/tt1179904/</td>\n",
       "      <td>15000.0</td>\n",
       "      <td>193355800.0</td>\n",
       "      <td>193340800.0</td>\n",
       "      <td>2009-10-16</td>\n",
       "      <td>10.0</td>\n",
       "    </tr>\n",
       "    <tr>\n",
       "      <th>1</th>\n",
       "      <td>1</td>\n",
       "      <td>10</td>\n",
       "      <td>Trick 'r Treat</td>\n",
       "      <td>2007</td>\n",
       "      <td>6.7</td>\n",
       "      <td>/title/tt0862856/</td>\n",
       "      <td>12000000.0</td>\n",
       "      <td>NaN</td>\n",
       "      <td>NaN</td>\n",
       "      <td>2015-11-27</td>\n",
       "      <td>11.0</td>\n",
       "    </tr>\n",
       "    <tr>\n",
       "      <th>2</th>\n",
       "      <td>2</td>\n",
       "      <td>16</td>\n",
       "      <td>The Oxford Murders</td>\n",
       "      <td>2008</td>\n",
       "      <td>6.1</td>\n",
       "      <td>/title/tt0488604/</td>\n",
       "      <td>10000000.0</td>\n",
       "      <td>17646627.0</td>\n",
       "      <td>7646627.0</td>\n",
       "      <td>2010-07-02</td>\n",
       "      <td>7.0</td>\n",
       "    </tr>\n",
       "    <tr>\n",
       "      <th>3</th>\n",
       "      <td>3</td>\n",
       "      <td>33</td>\n",
       "      <td>From Within</td>\n",
       "      <td>2008</td>\n",
       "      <td>5.6</td>\n",
       "      <td>/title/tt1063056/</td>\n",
       "      <td>NaN</td>\n",
       "      <td>228014.0</td>\n",
       "      <td>NaN</td>\n",
       "      <td>2009-06-03</td>\n",
       "      <td>6.0</td>\n",
       "    </tr>\n",
       "    <tr>\n",
       "      <th>4</th>\n",
       "      <td>4</td>\n",
       "      <td>42</td>\n",
       "      <td>Babysitter Wanted</td>\n",
       "      <td>2008</td>\n",
       "      <td>5.4</td>\n",
       "      <td>/title/tt0819755/</td>\n",
       "      <td>NaN</td>\n",
       "      <td>NaN</td>\n",
       "      <td>NaN</td>\n",
       "      <td>2009-02-06</td>\n",
       "      <td>2.0</td>\n",
       "    </tr>\n",
       "    <tr>\n",
       "      <th>...</th>\n",
       "      <td>...</td>\n",
       "      <td>...</td>\n",
       "      <td>...</td>\n",
       "      <td>...</td>\n",
       "      <td>...</td>\n",
       "      <td>...</td>\n",
       "      <td>...</td>\n",
       "      <td>...</td>\n",
       "      <td>...</td>\n",
       "      <td>...</td>\n",
       "      <td>...</td>\n",
       "    </tr>\n",
       "    <tr>\n",
       "      <th>811</th>\n",
       "      <td>811</td>\n",
       "      <td>910</td>\n",
       "      <td>Eli (I)</td>\n",
       "      <td>2019</td>\n",
       "      <td>5.8</td>\n",
       "      <td>/title/tt5294518/</td>\n",
       "      <td>14113729.0</td>\n",
       "      <td>NaN</td>\n",
       "      <td>NaN</td>\n",
       "      <td>2019-10-18</td>\n",
       "      <td>10.0</td>\n",
       "    </tr>\n",
       "    <tr>\n",
       "      <th>812</th>\n",
       "      <td>812</td>\n",
       "      <td>911</td>\n",
       "      <td>Countdown (III)</td>\n",
       "      <td>2019</td>\n",
       "      <td>5.4</td>\n",
       "      <td>/title/tt10039344/</td>\n",
       "      <td>6500000.0</td>\n",
       "      <td>48021766.0</td>\n",
       "      <td>41521766.0</td>\n",
       "      <td>2019-10-25</td>\n",
       "      <td>10.0</td>\n",
       "    </tr>\n",
       "    <tr>\n",
       "      <th>813</th>\n",
       "      <td>813</td>\n",
       "      <td>912</td>\n",
       "      <td>Rattlesnake</td>\n",
       "      <td>2019</td>\n",
       "      <td>4.6</td>\n",
       "      <td>/title/tt9257484/</td>\n",
       "      <td>NaN</td>\n",
       "      <td>NaN</td>\n",
       "      <td>NaN</td>\n",
       "      <td>2019-10-25</td>\n",
       "      <td>10.0</td>\n",
       "    </tr>\n",
       "    <tr>\n",
       "      <th>814</th>\n",
       "      <td>814</td>\n",
       "      <td>915</td>\n",
       "      <td>Doctor Sleep</td>\n",
       "      <td>2019</td>\n",
       "      <td>7.3</td>\n",
       "      <td>/title/tt5606664/</td>\n",
       "      <td>45000000.0</td>\n",
       "      <td>72381712.0</td>\n",
       "      <td>27381712.0</td>\n",
       "      <td>2019-11-08</td>\n",
       "      <td>11.0</td>\n",
       "    </tr>\n",
       "    <tr>\n",
       "      <th>815</th>\n",
       "      <td>815</td>\n",
       "      <td>916</td>\n",
       "      <td>Black Christmas</td>\n",
       "      <td>2019</td>\n",
       "      <td>3.5</td>\n",
       "      <td>/title/tt10481868/</td>\n",
       "      <td>5000000.0</td>\n",
       "      <td>18529730.0</td>\n",
       "      <td>13529730.0</td>\n",
       "      <td>2019-12-13</td>\n",
       "      <td>12.0</td>\n",
       "    </tr>\n",
       "  </tbody>\n",
       "</table>\n",
       "<p>816 rows × 11 columns</p>\n",
       "</div>"
      ],
      "text/plain": [
       "     Unnamed: 0.1  Unnamed: 0                  Title  Year  Rating  \\\n",
       "0               0           1    Paranormal Activity  2007     6.3   \n",
       "1               1          10         Trick 'r Treat  2007     6.7   \n",
       "2               2          16     The Oxford Murders  2008     6.1   \n",
       "3               3          33            From Within  2008     5.6   \n",
       "4               4          42      Babysitter Wanted  2008     5.4   \n",
       "..            ...         ...                    ...   ...     ...   \n",
       "811           811         910                Eli (I)  2019     5.8   \n",
       "812           812         911        Countdown (III)  2019     5.4   \n",
       "813           813         912            Rattlesnake  2019     4.6   \n",
       "814           814         915           Doctor Sleep  2019     7.3   \n",
       "815           815         916        Black Christmas  2019     3.5   \n",
       "\n",
       "                   Link      Budget        Gross          Net        Date  \\\n",
       "0     /title/tt1179904/     15000.0  193355800.0  193340800.0  2009-10-16   \n",
       "1     /title/tt0862856/  12000000.0          NaN          NaN  2015-11-27   \n",
       "2     /title/tt0488604/  10000000.0   17646627.0    7646627.0  2010-07-02   \n",
       "3     /title/tt1063056/         NaN     228014.0          NaN  2009-06-03   \n",
       "4     /title/tt0819755/         NaN          NaN          NaN  2009-02-06   \n",
       "..                  ...         ...          ...          ...         ...   \n",
       "811   /title/tt5294518/  14113729.0          NaN          NaN  2019-10-18   \n",
       "812  /title/tt10039344/   6500000.0   48021766.0   41521766.0  2019-10-25   \n",
       "813   /title/tt9257484/         NaN          NaN          NaN  2019-10-25   \n",
       "814   /title/tt5606664/  45000000.0   72381712.0   27381712.0  2019-11-08   \n",
       "815  /title/tt10481868/   5000000.0   18529730.0   13529730.0  2019-12-13   \n",
       "\n",
       "     Month  \n",
       "0     10.0  \n",
       "1     11.0  \n",
       "2      7.0  \n",
       "3      6.0  \n",
       "4      2.0  \n",
       "..     ...  \n",
       "811   10.0  \n",
       "812   10.0  \n",
       "813   10.0  \n",
       "814   11.0  \n",
       "815   12.0  \n",
       "\n",
       "[816 rows x 11 columns]"
      ]
     },
     "execution_count": 3,
     "metadata": {},
     "output_type": "execute_result"
    }
   ],
   "source": [
    "df"
   ]
  },
  {
   "cell_type": "code",
   "execution_count": 4,
   "metadata": {},
   "outputs": [
    {
     "data": {
      "text/plain": [
       "0      10.0\n",
       "1      11.0\n",
       "2       7.0\n",
       "3       6.0\n",
       "4       2.0\n",
       "       ... \n",
       "811    10.0\n",
       "812    10.0\n",
       "813    10.0\n",
       "814    11.0\n",
       "815    12.0\n",
       "Name: Month, Length: 816, dtype: float64"
      ]
     },
     "execution_count": 4,
     "metadata": {},
     "output_type": "execute_result"
    }
   ],
   "source": [
    "df['Month']\n",
    "# df['Month'] = pd.to_numeric(df['Date'][4:6].astype(float))"
   ]
  },
  {
   "cell_type": "code",
   "execution_count": 5,
   "metadata": {},
   "outputs": [
    {
     "data": {
      "text/plain": [
       "<BarContainer object of 12 artists>"
      ]
     },
     "execution_count": 5,
     "metadata": {},
     "output_type": "execute_result"
    },
    {
     "data": {
      "image/png": "[encoded data removed]",
      "text/plain": [
       "<Figure size 640x480 with 1 Axes>"
      ]
     },
     "metadata": {},
     "output_type": "display_data"
    }
   ],
   "source": [
    "RatingTracker = {\n",
    "  1 : [0, 0, 0], 2 : [0, 0, 0], 3 : [0, 0, 0], 4 : [0, 0, 0], 5 : [0, 0, 0], 6 : [0, 0, 0], \n",
    "  7 : [0, 0, 0], 8 : [0, 0, 0], 9 : [0, 0, 0], 10 : [0, 0, 0], 11 : [0, 0, 0], 12 : [0, 0, 0]\n",
    "}\n",
    "# [tracks total, tracks count, tracks mean]\n",
    "\n",
    "RatingList = df['Rating'].tolist()\n",
    "MonthList = df['Month'].tolist()\n",
    "\n",
    "for i in range(len(RatingList)):\n",
    "  if MonthList[i] in RatingTracker:\n",
    "    RatingTracker[MonthList[i]][0] += RatingList[i]\n",
    "    RatingTracker[MonthList[i]][1] += 1\n",
    "avg = []\n",
    "freq = []\n",
    "# print(RatingTracker)\n",
    "# loops through 1-12\n",
    "for i in RatingTracker:\n",
    "  RatingTracker[i][2] = (RatingTracker[i][0])/(RatingTracker[i][1])\n",
    "  avg.append(RatingTracker[i][2])\n",
    "  freq.append(RatingTracker[i][1])\n",
    "    # print(RatingTracker[i][2])\n",
    "\n",
    "# print(RatingTracker)\n",
    "\n",
    "months = list(RatingTracker.keys())\n",
    "plt.xlabel(\"Months\")\n",
    "plt.ylabel(\"Average Rating\")\n",
    "plt.title(\"Average Rating of Horror Movie Releases by Month\")\n",
    "plt.bar(months, avg)\n",
    "\n"
   ]
  },
  {
   "cell_type": "code",
   "execution_count": 6,
   "metadata": {},
   "outputs": [
    {
     "data": {
      "text/plain": [
       "<BarContainer object of 12 artists>"
      ]
     },
     "execution_count": 6,
     "metadata": {},
     "output_type": "execute_result"
    },
    {
     "data": {
      "image/png": "[encoded data removed]",
      "text/plain": [
       "<Figure size 640x480 with 1 Axes>"
      ]
     },
     "metadata": {},
     "output_type": "display_data"
    }
   ],
   "source": [
    "plt.xlabel(\"Months\")\n",
    "plt.ylabel(\"Frequency\")\n",
    "plt.title(\"Frequency of Horror Movie Releases by Month\")\n",
    "plt.bar(months, freq)"
   ]
  },
  {
   "cell_type": "code",
   "execution_count": 7,
   "metadata": {},
   "outputs": [
    {
     "data": {
      "text/plain": [
       "<BarContainer object of 2 artists>"
      ]
     },
     "execution_count": 7,
     "metadata": {},
     "output_type": "execute_result"
    },
    {
     "data": {
      "image/png": "[encoded data removed]",
      "text/plain": [
       "<Figure size 640x480 with 1 Axes>"
      ]
     },
     "metadata": {},
     "output_type": "display_data"
    }
   ],
   "source": [
    "RevenueTracker = {\n",
    "    \"Positive\" : [0, 0, 0],\n",
    "    \"Negative\" : [0, 0, 0]\n",
    "}\n",
    "# ratings total, ratings count, ratings mean\n",
    "\n",
    "RevenueList = df['Net'].tolist()\n",
    "for i in range(len(RevenueList)):\n",
    "    # print(i)\n",
    "    if not math.isnan(RevenueList[i]):\n",
    "        if RevenueList[i] > 0:\n",
    "                RevenueTracker[\"Positive\"][0] += RatingList[i]\n",
    "                RevenueTracker[\"Positive\"][1] += 1\n",
    "        if RevenueList[i] < 0:\n",
    "                RevenueTracker[\"Negative\"][0] += RatingList[i]\n",
    "                RevenueTracker[\"Negative\"][1] += 1\n",
    "                \n",
    "        # print(RevenueList[i])\n",
    "AvgRatingByNet = []\n",
    "PosNeg = list(RevenueTracker.keys())\n",
    "for i in RevenueTracker:\n",
    "    AvgRatingByNet.append(RevenueTracker[i][0]/RevenueTracker[i][1])\n",
    "\n",
    "\n",
    "plt.xlabel(\"Average Ratings\")\n",
    "plt.ylabel(\"Profitable\")\n",
    "plt.title(\"Horror Movie Average Ratings by Net Profit\")\n",
    "plt.bar(PosNeg, AvgRatingByNet)"
   ]
  },
  {
   "cell_type": "code",
   "execution_count": 16,
   "metadata": {},
   "outputs": [
    {
     "data": {
      "image/png": "[encoded data removed]",
      "text/plain": [
       "<Figure size 640x480 with 1 Axes>"
      ]
     },
     "metadata": {},
     "output_type": "display_data"
    }
   ],
   "source": [
    "df2 = pd.read_csv('imdbhorrordata5kratingsv3_allnet.csv')\n",
    "\n",
    "plt.hist2d(df2['Rating'], df2['Net'], bins = [100, 100], )\n",
    "plt.show()\n",
    "\n",
    "# df['Rating']"
   ]
  },
  {
   "cell_type": "code",
   "execution_count": null,
   "metadata": {},
   "outputs": [],
   "source": []
  }
 ],
 "metadata": {
  "kernelspec": {
   "display_name": "Python 3.10.6 64-bit",
   "language": "python",
   "name": "python3"
  },
  "language_info": {
   "codemirror_mode": {
    "name": "ipython",
    "version": 3
   },
   "file_extension": ".py",
   "mimetype": "text/x-python",
   "name": "python",
   "nbconvert_exporter": "python",
   "pygments_lexer": "ipython3",
   "version": "3.10.6"
  },
  "orig_nbformat": 4,
  "vscode": {
   "interpreter": {
    "hash": "aee8b7b246df8f9039afb4144a1f6fd8d2ca17a180786b69acc140d282b71a49"
   }
  }
 },
 "nbformat": 4,
 "nbformat_minor": 2
}
