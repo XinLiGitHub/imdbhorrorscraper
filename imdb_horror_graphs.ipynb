{
 "cells": [
  {
   "cell_type": "code",
   "execution_count": 87,
   "metadata": {},
   "outputs": [],
   "source": [
    "import pandas as pd\n",
    "from matplotlib import pyplot as plt\n",
    "from datetime import datetime\n",
    "import numpy as np\n",
    "import math"
   ]
  },
  {
   "cell_type": "code",
   "execution_count": 32,
   "metadata": {},
   "outputs": [],
   "source": [
    "df = pd.read_csv('imdbhorrordata5kratingsv2.csv')"
   ]
  },
  {
   "cell_type": "code",
   "execution_count": 22,
   "metadata": {},
   "outputs": [
    {
     "data": {
      "text/html": [
       "<div>\n",
       "<style scoped>\n",
       "    .dataframe tbody tr th:only-of-type {\n",
       "        vertical-align: middle;\n",
       "    }\n",
       "\n",
       "    .dataframe tbody tr th {\n",
       "        vertical-align: top;\n",
       "    }\n",
       "\n",
       "    .dataframe thead th {\n",
       "        text-align: right;\n",
       "    }\n",
       "</style>\n",
       "<table border=\"1\" class=\"dataframe\">\n",
       "  <thead>\n",
       "    <tr style=\"text-align: right;\">\n",
       "      <th></th>\n",
       "      <th>Unnamed: 0</th>\n",
       "      <th>Title</th>\n",
       "      <th>Year</th>\n",
       "      <th>Rating</th>\n",
       "      <th>Link</th>\n",
       "      <th>Budget</th>\n",
       "      <th>Gross</th>\n",
       "      <th>Net</th>\n",
       "      <th>Date</th>\n",
       "      <th>Month</th>\n",
       "    </tr>\n",
       "  </thead>\n",
       "  <tbody>\n",
       "    <tr>\n",
       "      <th>0</th>\n",
       "      <td>0</td>\n",
       "      <td>Bhool Bhulaiyaa</td>\n",
       "      <td>2007</td>\n",
       "      <td>7.4</td>\n",
       "      <td>/title/tt0995031/</td>\n",
       "      <td>NaN</td>\n",
       "      <td>19073095.0</td>\n",
       "      <td>NaN</td>\n",
       "      <td>2007-10-12</td>\n",
       "      <td>10.0</td>\n",
       "    </tr>\n",
       "    <tr>\n",
       "      <th>1</th>\n",
       "      <td>1</td>\n",
       "      <td>Paranormal Activity</td>\n",
       "      <td>2007</td>\n",
       "      <td>6.3</td>\n",
       "      <td>/title/tt1179904/</td>\n",
       "      <td>15000.0</td>\n",
       "      <td>193355800.0</td>\n",
       "      <td>193340800.0</td>\n",
       "      <td>2009-10-16</td>\n",
       "      <td>10.0</td>\n",
       "    </tr>\n",
       "    <tr>\n",
       "      <th>2</th>\n",
       "      <td>2</td>\n",
       "      <td>30 Days of Night</td>\n",
       "      <td>2007</td>\n",
       "      <td>6.6</td>\n",
       "      <td>/title/tt0389722/</td>\n",
       "      <td>30000000.0</td>\n",
       "      <td>75513170.0</td>\n",
       "      <td>45513170.0</td>\n",
       "      <td>2007-10-19</td>\n",
       "      <td>10.0</td>\n",
       "    </tr>\n",
       "    <tr>\n",
       "      <th>3</th>\n",
       "      <td>3</td>\n",
       "      <td>Boogeyman 2</td>\n",
       "      <td>2007</td>\n",
       "      <td>5.0</td>\n",
       "      <td>/title/tt0900357/</td>\n",
       "      <td>4500000.0</td>\n",
       "      <td>1798418.0</td>\n",
       "      <td>-2701582.0</td>\n",
       "      <td>2008-01-08</td>\n",
       "      <td>1.0</td>\n",
       "    </tr>\n",
       "    <tr>\n",
       "      <th>4</th>\n",
       "      <td>4</td>\n",
       "      <td>Saw IV</td>\n",
       "      <td>2007</td>\n",
       "      <td>5.9</td>\n",
       "      <td>/title/tt0890870/</td>\n",
       "      <td>10000000.0</td>\n",
       "      <td>139352633.0</td>\n",
       "      <td>129352633.0</td>\n",
       "      <td>2007-10-26</td>\n",
       "      <td>10.0</td>\n",
       "    </tr>\n",
       "    <tr>\n",
       "      <th>...</th>\n",
       "      <td>...</td>\n",
       "      <td>...</td>\n",
       "      <td>...</td>\n",
       "      <td>...</td>\n",
       "      <td>...</td>\n",
       "      <td>...</td>\n",
       "      <td>...</td>\n",
       "      <td>...</td>\n",
       "      <td>...</td>\n",
       "      <td>...</td>\n",
       "    </tr>\n",
       "    <tr>\n",
       "      <th>1095</th>\n",
       "      <td>1095</td>\n",
       "      <td>Crimes of the Future</td>\n",
       "      <td>2022</td>\n",
       "      <td>5.9</td>\n",
       "      <td>/title/tt14549466/</td>\n",
       "      <td>35000000.0</td>\n",
       "      <td>4520550.0</td>\n",
       "      <td>-30479450.0</td>\n",
       "      <td>2022-06-03</td>\n",
       "      <td>6.0</td>\n",
       "    </tr>\n",
       "    <tr>\n",
       "      <th>1096</th>\n",
       "      <td>1096</td>\n",
       "      <td>Nope</td>\n",
       "      <td>2022</td>\n",
       "      <td>6.9</td>\n",
       "      <td>/title/tt10954984/</td>\n",
       "      <td>68000000.0</td>\n",
       "      <td>171235592.0</td>\n",
       "      <td>103235592.0</td>\n",
       "      <td>2022-07-22</td>\n",
       "      <td>7.0</td>\n",
       "    </tr>\n",
       "    <tr>\n",
       "      <th>1097</th>\n",
       "      <td>1097</td>\n",
       "      <td>Prey (I)</td>\n",
       "      <td>2022</td>\n",
       "      <td>7.2</td>\n",
       "      <td>/title/tt11866324/</td>\n",
       "      <td>65000000.0</td>\n",
       "      <td>NaN</td>\n",
       "      <td>NaN</td>\n",
       "      <td>2022-08-05</td>\n",
       "      <td>8.0</td>\n",
       "    </tr>\n",
       "    <tr>\n",
       "      <th>1098</th>\n",
       "      <td>1098</td>\n",
       "      <td>They/Them</td>\n",
       "      <td>2022</td>\n",
       "      <td>3.8</td>\n",
       "      <td>/title/tt14502344/</td>\n",
       "      <td>NaN</td>\n",
       "      <td>NaN</td>\n",
       "      <td>NaN</td>\n",
       "      <td>2022-08-05</td>\n",
       "      <td>8.0</td>\n",
       "    </tr>\n",
       "    <tr>\n",
       "      <th>1099</th>\n",
       "      <td>1099</td>\n",
       "      <td>Orphan: First Kill</td>\n",
       "      <td>2022</td>\n",
       "      <td>5.9</td>\n",
       "      <td>/title/tt11851548/</td>\n",
       "      <td>10000000.0</td>\n",
       "      <td>37083743.0</td>\n",
       "      <td>27083743.0</td>\n",
       "      <td>2022-08-19</td>\n",
       "      <td>8.0</td>\n",
       "    </tr>\n",
       "  </tbody>\n",
       "</table>\n",
       "<p>1100 rows × 10 columns</p>\n",
       "</div>"
      ],
      "text/plain": [
       "      Unnamed: 0                   Title  Year  Rating                Link  \\\n",
       "0              0         Bhool Bhulaiyaa  2007     7.4   /title/tt0995031/   \n",
       "1              1     Paranormal Activity  2007     6.3   /title/tt1179904/   \n",
       "2              2        30 Days of Night  2007     6.6   /title/tt0389722/   \n",
       "3              3             Boogeyman 2  2007     5.0   /title/tt0900357/   \n",
       "4              4                  Saw IV  2007     5.9   /title/tt0890870/   \n",
       "...          ...                     ...   ...     ...                 ...   \n",
       "1095        1095    Crimes of the Future  2022     5.9  /title/tt14549466/   \n",
       "1096        1096                    Nope  2022     6.9  /title/tt10954984/   \n",
       "1097        1097                Prey (I)  2022     7.2  /title/tt11866324/   \n",
       "1098        1098               They/Them  2022     3.8  /title/tt14502344/   \n",
       "1099        1099      Orphan: First Kill  2022     5.9  /title/tt11851548/   \n",
       "\n",
       "          Budget        Gross          Net        Date  Month  \n",
       "0            NaN   19073095.0          NaN  2007-10-12   10.0  \n",
       "1        15000.0  193355800.0  193340800.0  2009-10-16   10.0  \n",
       "2     30000000.0   75513170.0   45513170.0  2007-10-19   10.0  \n",
       "3      4500000.0    1798418.0   -2701582.0  2008-01-08    1.0  \n",
       "4     10000000.0  139352633.0  129352633.0  2007-10-26   10.0  \n",
       "...          ...          ...          ...         ...    ...  \n",
       "1095  35000000.0    4520550.0  -30479450.0  2022-06-03    6.0  \n",
       "1096  68000000.0  171235592.0  103235592.0  2022-07-22    7.0  \n",
       "1097  65000000.0          NaN          NaN  2022-08-05    8.0  \n",
       "1098         NaN          NaN          NaN  2022-08-05    8.0  \n",
       "1099  10000000.0   37083743.0   27083743.0  2022-08-19    8.0  \n",
       "\n",
       "[1100 rows x 10 columns]"
      ]
     },
     "execution_count": 22,
     "metadata": {},
     "output_type": "execute_result"
    }
   ],
   "source": [
    "df"
   ]
  },
  {
   "cell_type": "code",
   "execution_count": 20,
   "metadata": {},
   "outputs": [
    {
     "name": "stderr",
     "output_type": "stream",
     "text": [
      "/var/folders/hz/32br96jn6sx2fpnqt9tbz4pw0000gn/T/ipykernel_29795/973924580.py:1: FutureWarning: The behavior of `series[i:j]` with an integer-dtype index is deprecated. In a future version, this will be treated as *label-based* indexing, consistent with e.g. `series[i]` lookups. To retain the old behavior, use `series.iloc[i:j]`. To get the future behavior, use `series.loc[i:j]`.\n",
      "  df['Date'][1:][2:]\n"
     ]
    },
    {
     "data": {
      "text/plain": [
       "3       2008-01-08\n",
       "4       2007-10-26\n",
       "5       2007-10-26\n",
       "6       2007-11-16\n",
       "7       2007-11-09\n",
       "           ...    \n",
       "1095    2022-07-22\n",
       "1096    2022-08-05\n",
       "1097    2022-08-05\n",
       "1098    2022-08-19\n",
       "1099    2022-08-19\n",
       "Name: Date, Length: 1097, dtype: object"
      ]
     },
     "execution_count": 20,
     "metadata": {},
     "output_type": "execute_result"
    }
   ],
   "source": [
    "df['Month']\n",
    "# df['Month'] = pd.to_numeric(df['Date'][4:6].astype(float))"
   ]
  },
  {
   "cell_type": "code",
   "execution_count": 73,
   "metadata": {},
   "outputs": [
    {
     "data": {
      "text/plain": [
       "<BarContainer object of 12 artists>"
      ]
     },
     "execution_count": 73,
     "metadata": {},
     "output_type": "execute_result"
    },
    {
     "data": {
      "image/png": "[encoded data removed]",
      "text/plain": [
       "<Figure size 640x480 with 1 Axes>"
      ]
     },
     "metadata": {},
     "output_type": "display_data"
    }
   ],
   "source": [
    "RatingTracker = {\n",
    "  1 : [0, 0, 0], 2 : [0, 0, 0], 3 : [0, 0, 0], 4 : [0, 0, 0], 5 : [0, 0, 0], 6 : [0, 0, 0], \n",
    "  7 : [0, 0, 0], 8 : [0, 0, 0], 9 : [0, 0, 0], 10 : [0, 0, 0], 11 : [0, 0, 0], 12 : [0, 0, 0]\n",
    "}\n",
    "# [tracks total, tracks count, tracks mean]\n",
    "\n",
    "RatingList = df['Rating'].tolist()\n",
    "MonthList = df['Month'].tolist()\n",
    "\n",
    "for i in range(len(RatingList)):\n",
    "  if MonthList[i] in RatingTracker:\n",
    "    RatingTracker[MonthList[i]][0] += RatingList[i]\n",
    "    RatingTracker[MonthList[i]][1] += 1\n",
    "avg = []\n",
    "freq = []\n",
    "# print(RatingTracker)\n",
    "# loops through 1-12\n",
    "for i in RatingTracker:\n",
    "  RatingTracker[i][2] = (RatingTracker[i][0])/(RatingTracker[i][1])\n",
    "  avg.append(RatingTracker[i][2])\n",
    "  freq.append(RatingTracker[i][1])\n",
    "    # print(RatingTracker[i][2])\n",
    "\n",
    "# print(RatingTracker)\n",
    "\n",
    "months = list(RatingTracker.keys())\n",
    "plt.xlabel(\"Months\")\n",
    "plt.ylabel(\"Average Rating\")\n",
    "plt.title(\"Average Rating of Horror Movie Releases by Month\")\n",
    "plt.bar(months, avg)\n",
    "\n"
   ]
  },
  {
   "cell_type": "code",
   "execution_count": 74,
   "metadata": {},
   "outputs": [
    {
     "data": {
      "text/plain": [
       "<BarContainer object of 12 artists>"
      ]
     },
     "execution_count": 74,
     "metadata": {},
     "output_type": "execute_result"
    },
    {
     "data": {
      "image/png": "[encoded data removed]",
      "text/plain": [
       "<Figure size 640x480 with 1 Axes>"
      ]
     },
     "metadata": {},
     "output_type": "display_data"
    }
   ],
   "source": [
    "plt.xlabel(\"Months\")\n",
    "plt.ylabel(\"Frequency\")\n",
    "plt.title(\"Frequency of Horror Movie Releases by Month\")\n",
    "plt.bar(months, freq)"
   ]
  },
  {
   "cell_type": "code",
   "execution_count": 96,
   "metadata": {},
   "outputs": [
    {
     "data": {
      "text/plain": [
       "<BarContainer object of 2 artists>"
      ]
     },
     "execution_count": 96,
     "metadata": {},
     "output_type": "execute_result"
    },
    {
     "data": {
      "image/png": "[encoded data removed]",
      "text/plain": [
       "<Figure size 640x480 with 1 Axes>"
      ]
     },
     "metadata": {},
     "output_type": "display_data"
    }
   ],
   "source": [
    "RevenueTracker = {\n",
    "    \"Positive\" : [0, 0, 0],\n",
    "    \"Negative\" : [0, 0, 0]\n",
    "}\n",
    "# ratings total, ratings count, ratings mean\n",
    "\n",
    "RevenueList = df['Net'].tolist()\n",
    "for i in range(len(RevenueList)):\n",
    "    # print(i)\n",
    "    if not math.isnan(RevenueList[i]):\n",
    "        if RevenueList[i] > 0:\n",
    "                RevenueTracker[\"Positive\"][0] += RatingList[i]\n",
    "                RevenueTracker[\"Positive\"][1] += 1\n",
    "        if RevenueList[i] < 0:\n",
    "                RevenueTracker[\"Negative\"][0] += RatingList[i]\n",
    "                RevenueTracker[\"Negative\"][1] += 1\n",
    "                \n",
    "        # print(RevenueList[i])\n",
    "AvgRatingByNet = []\n",
    "PosNeg = list(RevenueTracker.keys())\n",
    "for i in RevenueTracker:\n",
    "    AvgRatingByNet.append(RevenueTracker[i][0]/RevenueTracker[i][1])\n",
    "\n",
    "\n",
    "plt.xlabel(\"Average Ratings\")\n",
    "plt.ylabel(\"Profitable\")\n",
    "plt.title(\"Horror Movie Average Ratings by Net Profit\")\n",
    "plt.bar(PosNeg, AvgRatingByNet)"
   ]
  },
  {
   "cell_type": "code",
   "execution_count": null,
   "metadata": {},
   "outputs": [],
   "source": []
  }
 ],
 "metadata": {
  "kernelspec": {
   "display_name": "Python 3.10.6 64-bit",
   "language": "python",
   "name": "python3"
  },
  "language_info": {
   "codemirror_mode": {
    "name": "ipython",
    "version": 3
   },
   "file_extension": ".py",
   "mimetype": "text/x-python",
   "name": "python",
   "nbconvert_exporter": "python",
   "pygments_lexer": "ipython3",
   "version": "3.10.6"
  },
  "orig_nbformat": 4,
  "vscode": {
   "interpreter": {
    "hash": "aee8b7b246df8f9039afb4144a1f6fd8d2ca17a180786b69acc140d282b71a49"
   }
  }
 },
 "nbformat": 4,
 "nbformat_minor": 2
}
